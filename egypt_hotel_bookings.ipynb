{
  "cells": [
    {
      "cell_type": "markdown",
      "source": [
        "# Imports and setup"
      ],
      "metadata": {
        "collapsed": false,
        "id": "irpMCRzcUaSi"
      }
    },
    {
      "cell_type": "code",
      "source": [
        "# !pip install pyspark"
      ],
      "metadata": {
        "id": "4aBbklaEUyk-"
      },
      "execution_count": 104,
      "outputs": []
    },
    {
      "cell_type": "code",
      "execution_count": 105,
      "metadata": {
        "collapsed": true,
        "id": "dr6TwfgKUaSl"
      },
      "outputs": [],
      "source": [
        "import pyspark\n",
        "from pyspark.sql import SparkSession\n",
        "import pandas as pd"
      ]
    },
    {
      "cell_type": "markdown",
      "source": [],
      "metadata": {
        "collapsed": false,
        "id": "x75D0pLfUaSn"
      }
    },
    {
      "cell_type": "code",
      "execution_count": 106,
      "outputs": [
        {
          "output_type": "execute_result",
          "data": {
            "text/plain": [
              "<pyspark.sql.session.SparkSession at 0x7f9f2104f4c0>"
            ],
            "text/html": [
              "\n",
              "            <div>\n",
              "                <p><b>SparkSession - in-memory</b></p>\n",
              "                \n",
              "        <div>\n",
              "            <p><b>SparkContext</b></p>\n",
              "\n",
              "            <p><a href=\"http://63b438a40737:4040\">Spark UI</a></p>\n",
              "\n",
              "            <dl>\n",
              "              <dt>Version</dt>\n",
              "                <dd><code>v3.4.0</code></dd>\n",
              "              <dt>Master</dt>\n",
              "                <dd><code>local[*]</code></dd>\n",
              "              <dt>AppName</dt>\n",
              "                <dd><code>egypt_hotels_spark_session</code></dd>\n",
              "            </dl>\n",
              "        </div>\n",
              "        \n",
              "            </div>\n",
              "        "
            ]
          },
          "metadata": {},
          "execution_count": 106
        }
      ],
      "source": [
        "spark = SparkSession.builder.appName('egypt_hotels_spark_session').getOrCreate()\n",
        "spark"
      ],
      "metadata": {
        "pycharm": {
          "name": "#%%\n"
        },
        "colab": {
          "base_uri": "https://localhost:8080/",
          "height": 242
        },
        "id": "Xr9fkbAoUaSo",
        "outputId": "232d6abd-c11b-4525-93ee-ad6207ff85e7"
      }
    },
    {
      "cell_type": "markdown",
      "source": [
        "# Read CSV data and understanding the data\n"
      ],
      "metadata": {
        "collapsed": false,
        "id": "QSQtr57IUaSp"
      }
    },
    {
      "cell_type": "code",
      "execution_count": 107,
      "outputs": [
        {
          "output_type": "stream",
          "name": "stdout",
          "text": [
            "+---+-----------------+-----------+---------+-----------------+------------------+------------------------+-------------------------+-----------------------+--------------------+------+--------+------+----+-------+--------------------+-----------------+----------------------+------------------------------+------------------+------------------+---------------+------------+-----+-------+--------------------+-------------+---+---------------------------+-------------------------+\n",
            "|_c0|            hotel|is_canceled|lead_time|arrival_date_year|arrival_date_month|arrival_date_week_number|arrival_date_day_of_month|stays_in_weekend_nights|stays_in_week_nights|adults|children|babies|meal|country|distribution_channel|is_repeated_guest|previous_cancellations|previous_bookings_not_canceled|reserved_room_type|assigned_room_type|booking_changes|deposit_type|agent|company|days_in_waiting_list|customer_type|adr|required_car_parking_spaces|total_of_special_requests|\n",
            "+---+-----------------+-----------+---------+-----------------+------------------+------------------------+-------------------------+-----------------------+--------------------+------+--------+------+----+-------+--------------------+-----------------+----------------------+------------------------------+------------------+------------------+---------------+------------+-----+-------+--------------------+-------------+---+---------------------------+-------------------------+\n",
            "|  0|Renaissance Hotel|          0|      342|             2018|              July|                      27|                        1|                      0|                   0|     2|       0|     0|  BB|    PRT|              Direct|                0|                     0|                             0|                 C|                 C|              3|  No Deposit| null|   null|                   0|    Transient|0.0|                          0|                        0|\n",
            "+---+-----------------+-----------+---------+-----------------+------------------+------------------------+-------------------------+-----------------------+--------------------+------+--------+------+----+-------+--------------------+-----------------+----------------------+------------------------------+------------------+------------------+---------------+------------+-----+-------+--------------------+-------------+---+---------------------------+-------------------------+\n",
            "only showing top 1 row\n",
            "\n"
          ]
        }
      ],
      "source": [
        "df = spark.read.option('header', 'true').csv('/content/egphotelbookings.csv', inferSchema=True)\n",
        "df.show(1)"
      ],
      "metadata": {
        "pycharm": {
          "name": "#%%\n"
        },
        "colab": {
          "base_uri": "https://localhost:8080/",
          "height": 0
        },
        "id": "q1Kg7U38UaSp",
        "outputId": "75c81a8b-f881-4f9b-e7c6-22ea2c45e180"
      }
    },
    {
      "cell_type": "code",
      "source": [
        "df.printSchema()"
      ],
      "metadata": {
        "colab": {
          "base_uri": "https://localhost:8080/",
          "height": 0
        },
        "id": "2JPFVUZFW6NT",
        "outputId": "4b45038e-58fd-4038-ba50-dad0184cca4e"
      },
      "execution_count": 108,
      "outputs": [
        {
          "output_type": "stream",
          "name": "stdout",
          "text": [
            "root\n",
            " |-- _c0: integer (nullable = true)\n",
            " |-- hotel: string (nullable = true)\n",
            " |-- is_canceled: integer (nullable = true)\n",
            " |-- lead_time: integer (nullable = true)\n",
            " |-- arrival_date_year: integer (nullable = true)\n",
            " |-- arrival_date_month: string (nullable = true)\n",
            " |-- arrival_date_week_number: integer (nullable = true)\n",
            " |-- arrival_date_day_of_month: integer (nullable = true)\n",
            " |-- stays_in_weekend_nights: integer (nullable = true)\n",
            " |-- stays_in_week_nights: integer (nullable = true)\n",
            " |-- adults: integer (nullable = true)\n",
            " |-- children: integer (nullable = true)\n",
            " |-- babies: integer (nullable = true)\n",
            " |-- meal: string (nullable = true)\n",
            " |-- country: string (nullable = true)\n",
            " |-- distribution_channel: string (nullable = true)\n",
            " |-- is_repeated_guest: integer (nullable = true)\n",
            " |-- previous_cancellations: integer (nullable = true)\n",
            " |-- previous_bookings_not_canceled: integer (nullable = true)\n",
            " |-- reserved_room_type: string (nullable = true)\n",
            " |-- assigned_room_type: string (nullable = true)\n",
            " |-- booking_changes: integer (nullable = true)\n",
            " |-- deposit_type: string (nullable = true)\n",
            " |-- agent: double (nullable = true)\n",
            " |-- company: double (nullable = true)\n",
            " |-- days_in_waiting_list: integer (nullable = true)\n",
            " |-- customer_type: string (nullable = true)\n",
            " |-- adr: double (nullable = true)\n",
            " |-- required_car_parking_spaces: integer (nullable = true)\n",
            " |-- total_of_special_requests: integer (nullable = true)\n",
            "\n"
          ]
        }
      ]
    },
    {
      "cell_type": "code",
      "source": [
        "df.count()"
      ],
      "metadata": {
        "colab": {
          "base_uri": "https://localhost:8080/",
          "height": 0
        },
        "id": "pP42zXD7W6C4",
        "outputId": "f0789663-66f9-42a5-d04a-a0e02b6101e1"
      },
      "execution_count": 109,
      "outputs": [
        {
          "output_type": "execute_result",
          "data": {
            "text/plain": [
              "7326"
            ]
          },
          "metadata": {},
          "execution_count": 109
        }
      ]
    },
    {
      "cell_type": "markdown",
      "source": [
        "we have 7326 records"
      ],
      "metadata": {
        "id": "OufEyXJycaG9"
      }
    },
    {
      "cell_type": "markdown",
      "source": [
        "# Preprocessing and Cleaning"
      ],
      "metadata": {
        "id": "pzUbsud2cVIW"
      }
    },
    {
      "cell_type": "code",
      "source": [
        "from pyspark.sql.functions import col, isnan, when, count\n",
        "\n",
        "# check for missing values\n",
        "df.select([count(when(isnan(c) | col(c).isNull(), c)).alias(c) for c in df.columns]).head()"
      ],
      "metadata": {
        "colab": {
          "base_uri": "https://localhost:8080/",
          "height": 0
        },
        "id": "tx3w9XZoW57L",
        "outputId": "6fd37040-1fb3-4871-b5c5-1c4a8819feb9"
      },
      "execution_count": 110,
      "outputs": [
        {
          "output_type": "execute_result",
          "data": {
            "text/plain": [
              "Row(_c0=0, hotel=0, is_canceled=0, lead_time=0, arrival_date_year=0, arrival_date_month=0, arrival_date_week_number=0, arrival_date_day_of_month=0, stays_in_weekend_nights=0, stays_in_week_nights=0, adults=0, children=0, babies=0, meal=0, country=3, distribution_channel=0, is_repeated_guest=0, previous_cancellations=0, previous_bookings_not_canceled=0, reserved_room_type=0, assigned_room_type=0, booking_changes=0, deposit_type=0, agent=1156, company=6921, days_in_waiting_list=0, customer_type=0, adr=0, required_car_parking_spaces=0, total_of_special_requests=0)"
            ]
          },
          "metadata": {},
          "execution_count": 110
        }
      ]
    },
    {
      "cell_type": "code",
      "source": [
        "# get percentage of missing values\n",
        "print(f'Country: {3/df.count():.2f}')\n",
        "print(f'agent: {1156/df.count():.2f}')\n",
        "print(f'company: {6921/df.count():.2f}')"
      ],
      "metadata": {
        "colab": {
          "base_uri": "https://localhost:8080/",
          "height": 0
        },
        "id": "TcQF6w0zXW4Y",
        "outputId": "e8ca5635-f348-4b2f-fb3e-06e1bf971ab7"
      },
      "execution_count": 111,
      "outputs": [
        {
          "output_type": "stream",
          "name": "stdout",
          "text": [
            "Country: 0.00\n",
            "agent: 0.16\n",
            "company: 0.94\n"
          ]
        }
      ]
    },
    {
      "cell_type": "markdown",
      "source": [
        "Looks like Country is missing at only a 3 records so we can easily just remove the corresponding rows"
      ],
      "metadata": {
        "id": "kgBMy6ilXr70"
      }
    },
    {
      "cell_type": "code",
      "source": [
        "df = df.na.drop(how='any', subset=['Country'])"
      ],
      "metadata": {
        "id": "CWVmy1tWX106"
      },
      "execution_count": 112,
      "outputs": []
    },
    {
      "cell_type": "markdown",
      "source": [
        "The agent column, however seems to be about 16% of the entire dataset so it definitely deserves some more investigating"
      ],
      "metadata": {
        "id": "QmsOn2WTYTAT"
      }
    },
    {
      "cell_type": "markdown",
      "source": [
        "After some further investigating we now know that the agent field respresents the ID of the travel agency that made the booking\n",
        "\n",
        "If it's null this will most likely mean that the booking was made in person.\n"
      ],
      "metadata": {
        "id": "KmLpzzd2Ysmm"
      }
    },
    {
      "cell_type": "code",
      "source": [
        "df = df.na.drop(how='any', subset=['agent'])"
      ],
      "metadata": {
        "id": "_jKZZYviX1xw"
      },
      "execution_count": 113,
      "outputs": []
    },
    {
      "cell_type": "markdown",
      "source": [
        "Now the company column is something different altogether. It's missing values represent almost 94% of the entire dataset. If we can't find a proper solution for handeling this we'll most probably need to remove that column."
      ],
      "metadata": {
        "id": "9ugsQwgKa8SR"
      }
    },
    {
      "cell_type": "markdown",
      "source": [
        "It's now clear that the company field just represents the ID of the company entity that made the booking or responsible\n",
        "for paying the booking. ID is presented instead of designation for\n",
        "\n",
        "Knowing that, I think it's safe to say that the missing values can just be interpreted as booking that were not made or payed by a company so we can just drop it"
      ],
      "metadata": {
        "id": "xtv_uck9bVLj"
      }
    },
    {
      "cell_type": "code",
      "source": [
        "df = df.drop('company')"
      ],
      "metadata": {
        "id": "Hkld5y58bP5W"
      },
      "execution_count": 114,
      "outputs": []
    },
    {
      "cell_type": "markdown",
      "source": [
        "Now let's quickly check the missing values again to make sure there's no oversight"
      ],
      "metadata": {
        "id": "BDoIx4KLcLdm"
      }
    },
    {
      "cell_type": "code",
      "source": [
        "df.select([count(when(isnan(c) | col(c).isNull(), c)).alias(c) for c in df.columns]).head()"
      ],
      "metadata": {
        "colab": {
          "base_uri": "https://localhost:8080/",
          "height": 0
        },
        "id": "_W4wI-nCX1nf",
        "outputId": "61d4fcd6-f5ee-4c9e-95bf-eeb50fda6983"
      },
      "execution_count": 115,
      "outputs": [
        {
          "output_type": "execute_result",
          "data": {
            "text/plain": [
              "Row(_c0=0, hotel=0, is_canceled=0, lead_time=0, arrival_date_year=0, arrival_date_month=0, arrival_date_week_number=0, arrival_date_day_of_month=0, stays_in_weekend_nights=0, stays_in_week_nights=0, adults=0, children=0, babies=0, meal=0, country=0, distribution_channel=0, is_repeated_guest=0, previous_cancellations=0, previous_bookings_not_canceled=0, reserved_room_type=0, assigned_room_type=0, booking_changes=0, deposit_type=0, agent=0, days_in_waiting_list=0, customer_type=0, adr=0, required_car_parking_spaces=0, total_of_special_requests=0)"
            ]
          },
          "metadata": {},
          "execution_count": 115
        }
      ]
    },
    {
      "cell_type": "markdown",
      "source": [
        "# Let's just map out questiions that we would like to answer"
      ],
      "metadata": {
        "id": "UTz-iwiPo0HX"
      }
    },
    {
      "cell_type": "markdown",
      "source": [
        "## agent -> which agent makes the most bookings to assign them to more important clients\n",
        "\n",
        "\n",
        "## Average Daily Rate by Month\n",
        "\n",
        "\n",
        "## Ditributions of booking over the months for one year"
      ],
      "metadata": {
        "id": "Hnhq7w9_dogq"
      }
    },
    {
      "cell_type": "markdown",
      "source": [
        "#  Derive 3 insights about attributes from the dataset using appropriate visualizations"
      ],
      "metadata": {
        "collapsed": false,
        "id": "8KfDOQ7_UaSr"
      }
    },
    {
      "cell_type": "markdown",
      "source": [
        "To do this we need to have a look at our variables and state not only which ones could actually be useful but also if thay can be visualized to show insights"
      ],
      "metadata": {
        "id": "APP_zHa0dSWG"
      }
    },
    {
      "cell_type": "code",
      "source": [
        "import seaborn as sns\n",
        "import matplotlib.pyplot as plt\n"
      ],
      "metadata": {
        "id": "Tm0YLowDqDFM"
      },
      "execution_count": 116,
      "outputs": []
    },
    {
      "cell_type": "code",
      "execution_count": 117,
      "outputs": [
        {
          "output_type": "display_data",
          "data": {
            "text/plain": [
              "<Figure size 640x480 with 1 Axes>"
            ],
            "image/png": "[encoded data removed]"
          },
          "metadata": {}
        }
      ],
      "source": [
        "from pyspark.sql.functions import count\n",
        "\n",
        "hotel_counts = df.toPandas()\n",
        "\n",
        "sns.histplot(hotel_counts['hotel'])\n",
        "\n",
        "plt.title('Number of Bookings by Hotel')\n",
        "plt.xlabel('Hotel')\n",
        "plt.ylabel('Number of Bookings')\n",
        "\n",
        "plt.show()"
      ],
      "metadata": {
        "pycharm": {
          "name": "#%%\n"
        },
        "colab": {
          "base_uri": "https://localhost:8080/",
          "height": 472
        },
        "id": "1bFE2G0NUaSr",
        "outputId": "d82b4f5c-83a9-453c-d02f-1d63ffa38653"
      }
    },
    {
      "cell_type": "markdown",
      "source": [
        "Hmmm... Seems the dataset only incudes one hotel"
      ],
      "metadata": {
        "id": "3l6Uu4zmsPx8"
      }
    },
    {
      "cell_type": "markdown",
      "source": [
        "## agent -> which agent makes the most bookings to assign them to more important clients"
      ],
      "metadata": {
        "id": "DqC0adunyKTw"
      }
    },
    {
      "cell_type": "code",
      "source": [
        "agent_counts = df.groupby('agent').count().toPandas()\n",
        "\n",
        "top_agents = agent_counts.nlargest(10, 'count')\n",
        "\n",
        "plt.figure(figsize=(12, 6))\n",
        "sns.barplot(x='agent', y='count', data=top_agents)\n",
        "plt.xlabel('Agent ID')\n",
        "plt.ylabel('Count of Bookings')\n",
        "plt.title('Top 10 Agents with Highest Bookings')\n",
        "plt.xticks(rotation=90)\n",
        "plt.show()\n"
      ],
      "metadata": {
        "colab": {
          "base_uri": "https://localhost:8080/",
          "height": 590
        },
        "id": "2kVPPmXFv15t",
        "outputId": "95a50b86-223f-4044-973c-a3e52ee30e47"
      },
      "execution_count": 118,
      "outputs": [
        {
          "output_type": "display_data",
          "data": {
            "text/plain": [
              "<Figure size 1200x600 with 1 Axes>"
            ],
            "image/png": "[encoded data removed]"
          },
          "metadata": {}
        }
      ]
    },
    {
      "cell_type": "markdown",
      "source": [
        "## Average Daily Rate by Month"
      ],
      "metadata": {
        "id": "X-YCV2ggyT7l"
      }
    },
    {
      "cell_type": "code",
      "execution_count": 119,
      "outputs": [
        {
          "output_type": "display_data",
          "data": {
            "text/plain": [
              "<Figure size 1000x600 with 1 Axes>"
            ],
            "image/png": "[encoded data removed]"
          },
          "metadata": {}
        }
      ],
      "source": [
        "adr_by_month = df.groupby('arrival_date_month').avg('adr').toPandas()\n",
        "\n",
        "months_order = ['January', 'February', 'March', 'April', 'May', 'June', 'July',\n",
        "                'August', 'September', 'October', 'November', 'December']\n",
        "adr_by_month['arrival_date_month'] = pd.Categorical(adr_by_month['arrival_date_month'], categories=months_order, ordered=True)\n",
        "adr_by_month = adr_by_month.sort_values('arrival_date_month')\n",
        "\n",
        "plt.figure(figsize=(10, 6))\n",
        "sns.lineplot(x='arrival_date_month', y='avg(adr)', data=adr_by_month)\n",
        "plt.xlabel('Month')\n",
        "plt.ylabel('Average Daily Rate (ADR)')\n",
        "plt.title('Average Daily Rate (ADR) by Month')\n",
        "plt.xticks(rotation=45)\n",
        "plt.show()\n"
      ],
      "metadata": {
        "pycharm": {
          "name": "#%%\n"
        },
        "colab": {
          "base_uri": "https://localhost:8080/",
          "height": 614
        },
        "id": "nel6Gl2SUaSr",
        "outputId": "4a733376-31b9-47da-b4b4-d365ed82d974"
      }
    },
    {
      "cell_type": "markdown",
      "source": [
        "## Ditributions of booking over the months for one year"
      ],
      "metadata": {
        "id": "cdBxTc7jycuY"
      }
    },
    {
      "cell_type": "code",
      "source": [
        "bookings_one_year = df.filter(df.arrival_date_year == 2019)\n",
        "\n",
        "bookings_by_month = bookings_one_year.groupby('arrival_date_month').count().toPandas()\n",
        "\n",
        "months_order = ['January', 'February', 'March', 'April', 'May', 'June', 'July',\n",
        "                'August', 'September', 'October', 'November', 'December']\n",
        "bookings_by_month['arrival_date_month'] = pd.Categorical(bookings_by_month['arrival_date_month'], categories=months_order, ordered=True)\n",
        "bookings_by_month = bookings_by_month.sort_values('arrival_date_month')\n",
        "\n",
        "plt.figure(figsize=(10, 6))\n",
        "sns.lineplot(x='arrival_date_month', y='count', data=bookings_by_month)\n",
        "plt.xlabel('Month')\n",
        "plt.ylabel('Count of Bookings')\n",
        "plt.title('Distribution of Bookings over Months (2019)')\n",
        "plt.xticks(rotation=45)\n",
        "plt.show()\n"
      ],
      "metadata": {
        "colab": {
          "base_uri": "https://localhost:8080/",
          "height": 604
        },
        "id": "d9ArscX3pWHJ",
        "outputId": "3ffcbd3c-402f-4afe-dd21-03d88b864e0c"
      },
      "execution_count": 120,
      "outputs": [
        {
          "output_type": "display_data",
          "data": {
            "text/plain": [
              "<Figure size 1000x600 with 1 Axes>"
            ],
            "image/png": "[encoded data removed]"
          },
          "metadata": {}
        }
      ]
    },
    {
      "cell_type": "markdown",
      "source": [
        "# Come up with 3 promotions to offer per hotel (must be supported by results of queries of your own creation)\n"
      ],
      "metadata": {
        "collapsed": false,
        "id": "gfiAVWXHUaSs"
      }
    },
    {
      "cell_type": "code",
      "execution_count": 121,
      "outputs": [
        {
          "output_type": "execute_result",
          "data": {
            "text/plain": [
              "Renaissance Hotel    7326\n",
              "Name: hotel, dtype: int64"
            ]
          },
          "metadata": {},
          "execution_count": 121
        }
      ],
      "source": [
        "pd.read_csv('/content/egphotelbookings.csv')['hotel'].value_counts()\n",
        "# it's only Renaissance Hotel"
      ],
      "metadata": {
        "pycharm": {
          "name": "#%%\n"
        },
        "colab": {
          "base_uri": "https://localhost:8080/",
          "height": 0
        },
        "id": "hE_oGaRtUaSs",
        "outputId": "b4568649-7f35-4c04-90dd-b7c7b2f0f1b3"
      }
    },
    {
      "cell_type": "markdown",
      "source": [
        "## We can offer family packages for the month of july because it has the bookings with the most babies"
      ],
      "metadata": {
        "id": "Irn-HGXt1S6k"
      }
    },
    {
      "cell_type": "code",
      "source": [
        "from pyspark.sql.functions import month, sum\n",
        "\n",
        "top_month_babies = df.groupBy('arrival_date_month').agg(sum('babies').alias('total_babies'))\n",
        "\n",
        "top_month = top_month_babies.sort('total_babies', ascending=False).first()['arrival_date_month']\n",
        "\n",
        "print(\"Top Month for Babies: \", top_month)\n"
      ],
      "metadata": {
        "colab": {
          "base_uri": "https://localhost:8080/",
          "height": 0
        },
        "id": "-EzDJRKo0sru",
        "outputId": "a6ed45b5-6724-4a76-df55-d2b57cd2748d"
      },
      "execution_count": 122,
      "outputs": [
        {
          "output_type": "stream",
          "name": "stdout",
          "text": [
            "Top Month for Babies:  July\n"
          ]
        }
      ]
    },
    {
      "cell_type": "markdown",
      "source": [
        "## We can offer promotions to people that want to book for more than four nights"
      ],
      "metadata": {
        "id": "7uKFTE2K2TJf"
      }
    },
    {
      "cell_type": "code",
      "execution_count": 123,
      "outputs": [
        {
          "output_type": "stream",
          "name": "stdout",
          "text": [
            "Average Nights Stayed:  4\n"
          ]
        }
      ],
      "source": [
        "from pyspark.sql.functions import col, avg\n",
        "\n",
        "df_with_total_nights = df.withColumn('total_nights', col('stays_in_week_nights') + col('stays_in_weekend_nights'))\n",
        "\n",
        "average_nights_stayed = df_with_total_nights.select(avg('total_nights')).collect()[0][0]\n",
        "\n",
        "print(\"Average Nights Stayed: \", int(average_nights_stayed))\n"
      ],
      "metadata": {
        "pycharm": {
          "name": "#%%\n"
        },
        "colab": {
          "base_uri": "https://localhost:8080/",
          "height": 0
        },
        "id": "LBQ8U0D5UaSs",
        "outputId": "8cdabe0a-ebcb-448d-a230-8b0dd105c537"
      }
    },
    {
      "cell_type": "markdown",
      "source": [
        "## We can offer a romance honeymoon package for july"
      ],
      "metadata": {
        "id": "-hdW2Nx12WiS"
      }
    },
    {
      "cell_type": "code",
      "source": [
        "from pyspark.sql.functions import month, sum\n",
        "\n",
        "adults_only_df = df.filter(df.babies == 0)\n",
        "\n",
        "top_month_adults = adults_only_df.groupBy('arrival_date_month').agg(sum('adults').alias('total_adults'))\n",
        "\n",
        "top_month = top_month_adults.sort('total_adults', ascending=False).first()['arrival_date_month']\n",
        "\n",
        "print(\"Top Month for Adults (No Babies): \", top_month)\n"
      ],
      "metadata": {
        "colab": {
          "base_uri": "https://localhost:8080/",
          "height": 0
        },
        "id": "xQxPSVSpw0-w",
        "outputId": "7c728bfe-c750-4772-9f67-8de3c0fbda25"
      },
      "execution_count": 124,
      "outputs": [
        {
          "output_type": "stream",
          "name": "stdout",
          "text": [
            "Top Month for Adults (No Babies):  July\n"
          ]
        }
      ]
    },
    {
      "cell_type": "markdown",
      "source": [
        "# Using SparkML, produce at least 3 models to predict whether a booking will be canceled or not"
      ],
      "metadata": {
        "collapsed": false,
        "id": "iXjQFrVbUaSs"
      }
    },
    {
      "cell_type": "markdown",
      "source": [
        "## Preprocess"
      ],
      "metadata": {
        "id": "5owFzONV4j2C"
      }
    },
    {
      "cell_type": "code",
      "source": [
        "from pyspark.ml import Pipeline\n",
        "from pyspark.ml.feature import VectorAssembler\n",
        "from pyspark.ml.classification import LogisticRegression, LinearSVC,  NaiveBayes\n",
        "from sklearn.metrics import accuracy_score"
      ],
      "metadata": {
        "id": "CzW6_jtl4jXA"
      },
      "execution_count": 125,
      "outputs": []
    },
    {
      "cell_type": "code",
      "source": [
        "df.printSchema()"
      ],
      "metadata": {
        "colab": {
          "base_uri": "https://localhost:8080/",
          "height": 0
        },
        "id": "OtI5mBmZ50cJ",
        "outputId": "9291cddf-eb47-477e-d1c2-10b617c5ded7"
      },
      "execution_count": 126,
      "outputs": [
        {
          "output_type": "stream",
          "name": "stdout",
          "text": [
            "root\n",
            " |-- _c0: integer (nullable = true)\n",
            " |-- hotel: string (nullable = true)\n",
            " |-- is_canceled: integer (nullable = true)\n",
            " |-- lead_time: integer (nullable = true)\n",
            " |-- arrival_date_year: integer (nullable = true)\n",
            " |-- arrival_date_month: string (nullable = true)\n",
            " |-- arrival_date_week_number: integer (nullable = true)\n",
            " |-- arrival_date_day_of_month: integer (nullable = true)\n",
            " |-- stays_in_weekend_nights: integer (nullable = true)\n",
            " |-- stays_in_week_nights: integer (nullable = true)\n",
            " |-- adults: integer (nullable = true)\n",
            " |-- children: integer (nullable = true)\n",
            " |-- babies: integer (nullable = true)\n",
            " |-- meal: string (nullable = true)\n",
            " |-- country: string (nullable = true)\n",
            " |-- distribution_channel: string (nullable = true)\n",
            " |-- is_repeated_guest: integer (nullable = true)\n",
            " |-- previous_cancellations: integer (nullable = true)\n",
            " |-- previous_bookings_not_canceled: integer (nullable = true)\n",
            " |-- reserved_room_type: string (nullable = true)\n",
            " |-- assigned_room_type: string (nullable = true)\n",
            " |-- booking_changes: integer (nullable = true)\n",
            " |-- deposit_type: string (nullable = true)\n",
            " |-- agent: double (nullable = true)\n",
            " |-- days_in_waiting_list: integer (nullable = true)\n",
            " |-- customer_type: string (nullable = true)\n",
            " |-- adr: double (nullable = true)\n",
            " |-- required_car_parking_spaces: integer (nullable = true)\n",
            " |-- total_of_special_requests: integer (nullable = true)\n",
            "\n"
          ]
        }
      ]
    },
    {
      "cell_type": "code",
      "source": [
        "columns_to_index = ['hotel', 'meal', 'country', 'distribution_channel', 'reserved_room_type', 'assigned_room_type', 'deposit_type', 'customer_type', ]\n",
        "\n",
        "indexer_stages = []\n",
        "\n",
        "for column in columns_to_index:\n",
        "    indexer = StringIndexer(inputCol=column, outputCol=column + '_indexed')\n",
        "    indexer_stages.append(indexer)\n",
        "\n",
        "pipeline = Pipeline(stages=indexer_stages)\n",
        "pipeline_model = pipeline.fit(df)\n",
        "\n",
        "df_indexed = pipeline_model.transform(df)\n",
        "\n",
        "df_indexed.show()"
      ],
      "metadata": {
        "colab": {
          "base_uri": "https://localhost:8080/",
          "height": 0
        },
        "id": "TBVhoJcJ56aC",
        "outputId": "59b1973d-3559-43e0-e64d-24722375f215"
      },
      "execution_count": 131,
      "outputs": [
        {
          "output_type": "stream",
          "name": "stdout",
          "text": [
            "+---+-----------------+-----------+---------+-----------------+------------------+------------------------+-------------------------+-----------------------+--------------------+------+--------+------+----+-------+--------------------+-----------------+----------------------+------------------------------+------------------+------------------+---------------+------------+-----+--------------------+-------------+------+---------------------------+-------------------------+-------------+------------+---------------+----------------------------+--------------------------+--------------------------+--------------------+---------------------+\n",
            "|_c0|            hotel|is_canceled|lead_time|arrival_date_year|arrival_date_month|arrival_date_week_number|arrival_date_day_of_month|stays_in_weekend_nights|stays_in_week_nights|adults|children|babies|meal|country|distribution_channel|is_repeated_guest|previous_cancellations|previous_bookings_not_canceled|reserved_room_type|assigned_room_type|booking_changes|deposit_type|agent|days_in_waiting_list|customer_type|   adr|required_car_parking_spaces|total_of_special_requests|hotel_indexed|meal_indexed|country_indexed|distribution_channel_indexed|reserved_room_type_indexed|assigned_room_type_indexed|deposit_type_indexed|customer_type_indexed|\n",
            "+---+-----------------+-----------+---------+-----------------+------------------+------------------------+-------------------------+-----------------------+--------------------+------+--------+------+----+-------+--------------------+-----------------+----------------------+------------------------------+------------------+------------------+---------------+------------+-----+--------------------+-------------+------+---------------------------+-------------------------+-------------+------------+---------------+----------------------------+--------------------------+--------------------------+--------------------+---------------------+\n",
            "|  3|Renaissance Hotel|          0|       13|             2018|              July|                      27|                        1|                      0|                   1|     1|       0|     0|  BB|    GBR|           Corporate|                0|                     0|                             0|                 A|                 A|              0|  No Deposit|304.0|                   0|    Transient|  75.0|                          0|                        0|          0.0|         0.0|            1.0|                         2.0|                       0.0|                       0.0|                 0.0|                  0.0|\n",
            "|  4|Renaissance Hotel|          0|       14|             2018|              July|                      27|                        1|                      0|                   2|     2|       0|     0|  BB|    GBR|               TA/TO|                0|                     0|                             0|                 A|                 A|              0|  No Deposit|240.0|                   0|    Transient|  98.0|                          0|                        1|          0.0|         0.0|            1.0|                         0.0|                       0.0|                       0.0|                 0.0|                  0.0|\n",
            "|  5|Renaissance Hotel|          0|       14|             2018|              July|                      27|                        1|                      0|                   2|     2|       0|     0|  BB|    GBR|               TA/TO|                0|                     0|                             0|                 A|                 A|              0|  No Deposit|240.0|                   0|    Transient|  98.0|                          0|                        1|          0.0|         0.0|            1.0|                         0.0|                       0.0|                       0.0|                 0.0|                  0.0|\n",
            "|  7|Renaissance Hotel|          0|        9|             2018|              July|                      27|                        1|                      0|                   2|     2|       0|     0|  FB|    PRT|              Direct|                0|                     0|                             0|                 C|                 C|              0|  No Deposit|303.0|                   0|    Transient| 103.0|                          0|                        1|          0.0|         2.0|            0.0|                         1.0|                       4.0|                       4.0|                 0.0|                  0.0|\n",
            "|  8|Renaissance Hotel|          1|       85|             2018|              July|                      27|                        1|                      0|                   3|     2|       0|     0|  BB|    PRT|               TA/TO|                0|                     0|                             0|                 A|                 A|              0|  No Deposit|240.0|                   0|    Transient|  82.0|                          0|                        1|          0.0|         0.0|            0.0|                         0.0|                       0.0|                       0.0|                 0.0|                  0.0|\n",
            "|  9|Renaissance Hotel|          1|       75|             2018|              July|                      27|                        1|                      0|                   3|     2|       0|     0|  HB|    PRT|               TA/TO|                0|                     0|                             0|                 D|                 D|              0|  No Deposit| 15.0|                   0|    Transient| 105.5|                          0|                        0|          0.0|         1.0|            0.0|                         0.0|                       1.0|                       1.0|                 0.0|                  0.0|\n",
            "| 10|Renaissance Hotel|          1|       23|             2018|              July|                      27|                        1|                      0|                   4|     2|       0|     0|  BB|    PRT|               TA/TO|                0|                     0|                             0|                 E|                 E|              0|  No Deposit|240.0|                   0|    Transient| 123.0|                          0|                        0|          0.0|         0.0|            0.0|                         0.0|                       2.0|                       2.0|                 0.0|                  0.0|\n",
            "| 11|Renaissance Hotel|          0|       35|             2018|              July|                      27|                        1|                      0|                   4|     2|       0|     0|  HB|    PRT|               TA/TO|                0|                     0|                             0|                 D|                 D|              0|  No Deposit|240.0|                   0|    Transient| 145.0|                          0|                        0|          0.0|         1.0|            0.0|                         0.0|                       1.0|                       1.0|                 0.0|                  0.0|\n",
            "| 12|Renaissance Hotel|          0|       68|             2018|              July|                      27|                        1|                      0|                   4|     2|       0|     0|  BB|    USA|               TA/TO|                0|                     0|                             0|                 D|                 E|              0|  No Deposit|240.0|                   0|    Transient|  97.0|                          0|                        3|          0.0|         0.0|            9.0|                         0.0|                       1.0|                       2.0|                 0.0|                  0.0|\n",
            "| 13|Renaissance Hotel|          0|       18|             2018|              July|                      27|                        1|                      0|                   4|     2|       1|     0|  HB|    ESP|               TA/TO|                0|                     0|                             0|                 G|                 G|              1|  No Deposit|241.0|                   0|    Transient|154.77|                          0|                        1|          0.0|         1.0|            2.0|                         0.0|                       3.0|                       3.0|                 0.0|                  0.0|\n",
            "| 14|Renaissance Hotel|          0|       37|             2018|              July|                      27|                        1|                      0|                   4|     2|       0|     0|  BB|    PRT|               TA/TO|                0|                     0|                             0|                 E|                 E|              0|  No Deposit|241.0|                   0|    Transient| 94.71|                          0|                        0|          0.0|         0.0|            0.0|                         0.0|                       2.0|                       2.0|                 0.0|                  0.0|\n",
            "| 15|Renaissance Hotel|          0|       68|             2018|              July|                      27|                        1|                      0|                   4|     2|       0|     0|  BB|    IRL|               TA/TO|                0|                     0|                             0|                 D|                 E|              0|  No Deposit|240.0|                   0|    Transient|  97.0|                          0|                        3|          0.0|         0.0|            4.0|                         0.0|                       1.0|                       2.0|                 0.0|                  0.0|\n",
            "| 16|Renaissance Hotel|          0|       37|             2018|              July|                      27|                        1|                      0|                   4|     2|       0|     0|  BB|    PRT|               TA/TO|                0|                     0|                             0|                 E|                 E|              0|  No Deposit|  8.0|                   0|     Contract|  97.5|                          0|                        0|          0.0|         0.0|            0.0|                         0.0|                       2.0|                       2.0|                 0.0|                  2.0|\n",
            "| 17|Renaissance Hotel|          0|       12|             2018|              July|                      27|                        1|                      0|                   1|     2|       0|     0|  BB|    IRL|               TA/TO|                0|                     0|                             0|                 A|                 E|              0|  No Deposit|240.0|                   0|    Transient|  88.2|                          0|                        0|          0.0|         0.0|            4.0|                         0.0|                       0.0|                       2.0|                 0.0|                  0.0|\n",
            "| 19|Renaissance Hotel|          0|        7|             2018|              July|                      27|                        1|                      0|                   4|     2|       0|     0|  BB|    GBR|              Direct|                0|                     0|                             0|                 G|                 G|              0|  No Deposit|250.0|                   0|    Transient| 153.0|                          0|                        1|          0.0|         0.0|            1.0|                         1.0|                       3.0|                       3.0|                 0.0|                  0.0|\n",
            "| 20|Renaissance Hotel|          0|       37|             2018|              July|                      27|                        1|                      1|                   4|     1|       0|     0|  BB|    GBR|               TA/TO|                0|                     0|                             0|                 F|                 F|              0|  No Deposit|241.0|                   0|    Transient| 97.29|                          0|                        1|          0.0|         0.0|            1.0|                         0.0|                       5.0|                       5.0|                 0.0|                  0.0|\n",
            "| 21|Renaissance Hotel|          0|       72|             2018|              July|                      27|                        1|                      2|                   4|     2|       0|     0|  BB|    PRT|              Direct|                0|                     0|                             0|                 A|                 A|              1|  No Deposit|250.0|                   0|    Transient| 84.67|                          0|                        1|          0.0|         0.0|            0.0|                         1.0|                       0.0|                       0.0|                 0.0|                  0.0|\n",
            "| 22|Renaissance Hotel|          0|       72|             2018|              July|                      27|                        1|                      2|                   4|     2|       0|     0|  BB|    PRT|              Direct|                0|                     0|                             0|                 A|                 A|              1|  No Deposit|250.0|                   0|    Transient| 84.67|                          0|                        1|          0.0|         0.0|            0.0|                         1.0|                       0.0|                       0.0|                 0.0|                  0.0|\n",
            "| 23|Renaissance Hotel|          0|       72|             2018|              July|                      27|                        1|                      2|                   4|     2|       0|     0|  BB|    PRT|              Direct|                0|                     0|                             0|                 D|                 D|              1|  No Deposit|250.0|                   0|    Transient| 99.67|                          0|                        1|          0.0|         0.0|            0.0|                         1.0|                       1.0|                       1.0|                 0.0|                  0.0|\n",
            "| 24|Renaissance Hotel|          0|      127|             2018|              July|                      27|                        1|                      2|                   5|     2|       0|     0|  HB|    GBR|               TA/TO|                0|                     0|                             0|                 D|                 I|              0|  No Deposit|115.0|                   0|     Contract| 94.95|                          0|                        1|          0.0|         1.0|            1.0|                         0.0|                       1.0|                       7.0|                 0.0|                  2.0|\n",
            "+---+-----------------+-----------+---------+-----------------+------------------+------------------------+-------------------------+-----------------------+--------------------+------+--------+------+----+-------+--------------------+-----------------+----------------------+------------------------------+------------------+------------------+---------------+------------+-----+--------------------+-------------+------+---------------------------+-------------------------+-------------+------------+---------------+----------------------------+--------------------------+--------------------------+--------------------+---------------------+\n",
            "only showing top 20 rows\n",
            "\n"
          ]
        }
      ]
    },
    {
      "cell_type": "code",
      "source": [
        "column_types = df_indexed.dtypes\n",
        "\n",
        "independant_columns = [column[0] for column in column_types if column[1] in ('int', 'bigint', 'float', 'double')]\n",
        "\n",
        "independant_columns.remove('_c0')\n",
        "independant_columns.remove('agent')\n",
        "independant_columns.remove('arrival_date_year')\n",
        "independant_columns.remove('arrival_date_week_number')\n",
        "independant_columns.remove('hotel_indexed')\n",
        "independant_columns.remove('previous_cancellations')\n",
        "\n",
        "\n",
        "df_feat = df_indexed.select(independant_columns)\n",
        "df_feat.show()"
      ],
      "metadata": {
        "colab": {
          "base_uri": "https://localhost:8080/",
          "height": 0
        },
        "id": "2WUfmEvd-Z3l",
        "outputId": "7c408ec1-7f1d-4c62-e8c0-7ee7dfe83565"
      },
      "execution_count": 133,
      "outputs": [
        {
          "output_type": "stream",
          "name": "stdout",
          "text": [
            "+-----------+---------+-------------------------+-----------------------+--------------------+------+--------+------+-----------------+------------------------------+---------------+--------------------+------+---------------------------+-------------------------+------------+---------------+----------------------------+--------------------------+--------------------------+--------------------+---------------------+\n",
            "|is_canceled|lead_time|arrival_date_day_of_month|stays_in_weekend_nights|stays_in_week_nights|adults|children|babies|is_repeated_guest|previous_bookings_not_canceled|booking_changes|days_in_waiting_list|   adr|required_car_parking_spaces|total_of_special_requests|meal_indexed|country_indexed|distribution_channel_indexed|reserved_room_type_indexed|assigned_room_type_indexed|deposit_type_indexed|customer_type_indexed|\n",
            "+-----------+---------+-------------------------+-----------------------+--------------------+------+--------+------+-----------------+------------------------------+---------------+--------------------+------+---------------------------+-------------------------+------------+---------------+----------------------------+--------------------------+--------------------------+--------------------+---------------------+\n",
            "|          0|       13|                        1|                      0|                   1|     1|       0|     0|                0|                             0|              0|                   0|  75.0|                          0|                        0|         0.0|            1.0|                         2.0|                       0.0|                       0.0|                 0.0|                  0.0|\n",
            "|          0|       14|                        1|                      0|                   2|     2|       0|     0|                0|                             0|              0|                   0|  98.0|                          0|                        1|         0.0|            1.0|                         0.0|                       0.0|                       0.0|                 0.0|                  0.0|\n",
            "|          0|       14|                        1|                      0|                   2|     2|       0|     0|                0|                             0|              0|                   0|  98.0|                          0|                        1|         0.0|            1.0|                         0.0|                       0.0|                       0.0|                 0.0|                  0.0|\n",
            "|          0|        9|                        1|                      0|                   2|     2|       0|     0|                0|                             0|              0|                   0| 103.0|                          0|                        1|         2.0|            0.0|                         1.0|                       4.0|                       4.0|                 0.0|                  0.0|\n",
            "|          1|       85|                        1|                      0|                   3|     2|       0|     0|                0|                             0|              0|                   0|  82.0|                          0|                        1|         0.0|            0.0|                         0.0|                       0.0|                       0.0|                 0.0|                  0.0|\n",
            "|          1|       75|                        1|                      0|                   3|     2|       0|     0|                0|                             0|              0|                   0| 105.5|                          0|                        0|         1.0|            0.0|                         0.0|                       1.0|                       1.0|                 0.0|                  0.0|\n",
            "|          1|       23|                        1|                      0|                   4|     2|       0|     0|                0|                             0|              0|                   0| 123.0|                          0|                        0|         0.0|            0.0|                         0.0|                       2.0|                       2.0|                 0.0|                  0.0|\n",
            "|          0|       35|                        1|                      0|                   4|     2|       0|     0|                0|                             0|              0|                   0| 145.0|                          0|                        0|         1.0|            0.0|                         0.0|                       1.0|                       1.0|                 0.0|                  0.0|\n",
            "|          0|       68|                        1|                      0|                   4|     2|       0|     0|                0|                             0|              0|                   0|  97.0|                          0|                        3|         0.0|            9.0|                         0.0|                       1.0|                       2.0|                 0.0|                  0.0|\n",
            "|          0|       18|                        1|                      0|                   4|     2|       1|     0|                0|                             0|              1|                   0|154.77|                          0|                        1|         1.0|            2.0|                         0.0|                       3.0|                       3.0|                 0.0|                  0.0|\n",
            "|          0|       37|                        1|                      0|                   4|     2|       0|     0|                0|                             0|              0|                   0| 94.71|                          0|                        0|         0.0|            0.0|                         0.0|                       2.0|                       2.0|                 0.0|                  0.0|\n",
            "|          0|       68|                        1|                      0|                   4|     2|       0|     0|                0|                             0|              0|                   0|  97.0|                          0|                        3|         0.0|            4.0|                         0.0|                       1.0|                       2.0|                 0.0|                  0.0|\n",
            "|          0|       37|                        1|                      0|                   4|     2|       0|     0|                0|                             0|              0|                   0|  97.5|                          0|                        0|         0.0|            0.0|                         0.0|                       2.0|                       2.0|                 0.0|                  2.0|\n",
            "|          0|       12|                        1|                      0|                   1|     2|       0|     0|                0|                             0|              0|                   0|  88.2|                          0|                        0|         0.0|            4.0|                         0.0|                       0.0|                       2.0|                 0.0|                  0.0|\n",
            "|          0|        7|                        1|                      0|                   4|     2|       0|     0|                0|                             0|              0|                   0| 153.0|                          0|                        1|         0.0|            1.0|                         1.0|                       3.0|                       3.0|                 0.0|                  0.0|\n",
            "|          0|       37|                        1|                      1|                   4|     1|       0|     0|                0|                             0|              0|                   0| 97.29|                          0|                        1|         0.0|            1.0|                         0.0|                       5.0|                       5.0|                 0.0|                  0.0|\n",
            "|          0|       72|                        1|                      2|                   4|     2|       0|     0|                0|                             0|              1|                   0| 84.67|                          0|                        1|         0.0|            0.0|                         1.0|                       0.0|                       0.0|                 0.0|                  0.0|\n",
            "|          0|       72|                        1|                      2|                   4|     2|       0|     0|                0|                             0|              1|                   0| 84.67|                          0|                        1|         0.0|            0.0|                         1.0|                       0.0|                       0.0|                 0.0|                  0.0|\n",
            "|          0|       72|                        1|                      2|                   4|     2|       0|     0|                0|                             0|              1|                   0| 99.67|                          0|                        1|         0.0|            0.0|                         1.0|                       1.0|                       1.0|                 0.0|                  0.0|\n",
            "|          0|      127|                        1|                      2|                   5|     2|       0|     0|                0|                             0|              0|                   0| 94.95|                          0|                        1|         1.0|            1.0|                         0.0|                       1.0|                       7.0|                 0.0|                  2.0|\n",
            "+-----------+---------+-------------------------+-----------------------+--------------------+------+--------+------+-----------------+------------------------------+---------------+--------------------+------+---------------------------+-------------------------+------------+---------------+----------------------------+--------------------------+--------------------------+--------------------+---------------------+\n",
            "only showing top 20 rows\n",
            "\n"
          ]
        }
      ]
    },
    {
      "cell_type": "code",
      "source": [
        "important_features = df_feat.columns\n",
        "important_features.remove('is_canceled')\n",
        "important_features"
      ],
      "metadata": {
        "colab": {
          "base_uri": "https://localhost:8080/",
          "height": 0
        },
        "id": "C0yT4402xs5a",
        "outputId": "3b0f029a-1bd8-46d2-e96d-d6dd35fe6f9a"
      },
      "execution_count": 136,
      "outputs": [
        {
          "output_type": "execute_result",
          "data": {
            "text/plain": [
              "['lead_time',\n",
              " 'arrival_date_day_of_month',\n",
              " 'stays_in_weekend_nights',\n",
              " 'stays_in_week_nights',\n",
              " 'adults',\n",
              " 'children',\n",
              " 'babies',\n",
              " 'is_repeated_guest',\n",
              " 'previous_bookings_not_canceled',\n",
              " 'booking_changes',\n",
              " 'days_in_waiting_list',\n",
              " 'adr',\n",
              " 'required_car_parking_spaces',\n",
              " 'total_of_special_requests',\n",
              " 'meal_indexed',\n",
              " 'country_indexed',\n",
              " 'distribution_channel_indexed',\n",
              " 'reserved_room_type_indexed',\n",
              " 'assigned_room_type_indexed',\n",
              " 'deposit_type_indexed',\n",
              " 'customer_type_indexed']"
            ]
          },
          "metadata": {},
          "execution_count": 136
        }
      ]
    },
    {
      "cell_type": "code",
      "source": [
        "featurizationPipeline = Pipeline(stages = [VectorAssembler(inputCols=important_features, outputCol=\"features\")])\n",
        "\n",
        "featurizationPipelineModel = featurizationPipeline.fit(df_feat)\n",
        "df_with_features = featurizationPipelineModel.transform(df_feat)\n",
        "df_with_features.show()"
      ],
      "metadata": {
        "colab": {
          "base_uri": "https://localhost:8080/",
          "height": 0
        },
        "id": "QaqBRWlAIOub",
        "outputId": "a57594e1-915f-4365-f290-51bd292858d2"
      },
      "execution_count": 137,
      "outputs": [
        {
          "output_type": "stream",
          "name": "stdout",
          "text": [
            "+-----------+---------+-------------------------+-----------------------+--------------------+------+--------+------+-----------------+------------------------------+---------------+--------------------+------+---------------------------+-------------------------+------------+---------------+----------------------------+--------------------------+--------------------------+--------------------+---------------------+--------------------+\n",
            "|is_canceled|lead_time|arrival_date_day_of_month|stays_in_weekend_nights|stays_in_week_nights|adults|children|babies|is_repeated_guest|previous_bookings_not_canceled|booking_changes|days_in_waiting_list|   adr|required_car_parking_spaces|total_of_special_requests|meal_indexed|country_indexed|distribution_channel_indexed|reserved_room_type_indexed|assigned_room_type_indexed|deposit_type_indexed|customer_type_indexed|            features|\n",
            "+-----------+---------+-------------------------+-----------------------+--------------------+------+--------+------+-----------------+------------------------------+---------------+--------------------+------+---------------------------+-------------------------+------------+---------------+----------------------------+--------------------------+--------------------------+--------------------+---------------------+--------------------+\n",
            "|          0|       13|                        1|                      0|                   1|     1|       0|     0|                0|                             0|              0|                   0|  75.0|                          0|                        0|         0.0|            1.0|                         2.0|                       0.0|                       0.0|                 0.0|                  0.0|(21,[0,1,3,4,11,1...|\n",
            "|          0|       14|                        1|                      0|                   2|     2|       0|     0|                0|                             0|              0|                   0|  98.0|                          0|                        1|         0.0|            1.0|                         0.0|                       0.0|                       0.0|                 0.0|                  0.0|(21,[0,1,3,4,11,1...|\n",
            "|          0|       14|                        1|                      0|                   2|     2|       0|     0|                0|                             0|              0|                   0|  98.0|                          0|                        1|         0.0|            1.0|                         0.0|                       0.0|                       0.0|                 0.0|                  0.0|(21,[0,1,3,4,11,1...|\n",
            "|          0|        9|                        1|                      0|                   2|     2|       0|     0|                0|                             0|              0|                   0| 103.0|                          0|                        1|         2.0|            0.0|                         1.0|                       4.0|                       4.0|                 0.0|                  0.0|(21,[0,1,3,4,11,1...|\n",
            "|          1|       85|                        1|                      0|                   3|     2|       0|     0|                0|                             0|              0|                   0|  82.0|                          0|                        1|         0.0|            0.0|                         0.0|                       0.0|                       0.0|                 0.0|                  0.0|(21,[0,1,3,4,11,1...|\n",
            "|          1|       75|                        1|                      0|                   3|     2|       0|     0|                0|                             0|              0|                   0| 105.5|                          0|                        0|         1.0|            0.0|                         0.0|                       1.0|                       1.0|                 0.0|                  0.0|(21,[0,1,3,4,11,1...|\n",
            "|          1|       23|                        1|                      0|                   4|     2|       0|     0|                0|                             0|              0|                   0| 123.0|                          0|                        0|         0.0|            0.0|                         0.0|                       2.0|                       2.0|                 0.0|                  0.0|(21,[0,1,3,4,11,1...|\n",
            "|          0|       35|                        1|                      0|                   4|     2|       0|     0|                0|                             0|              0|                   0| 145.0|                          0|                        0|         1.0|            0.0|                         0.0|                       1.0|                       1.0|                 0.0|                  0.0|(21,[0,1,3,4,11,1...|\n",
            "|          0|       68|                        1|                      0|                   4|     2|       0|     0|                0|                             0|              0|                   0|  97.0|                          0|                        3|         0.0|            9.0|                         0.0|                       1.0|                       2.0|                 0.0|                  0.0|(21,[0,1,3,4,11,1...|\n",
            "|          0|       18|                        1|                      0|                   4|     2|       1|     0|                0|                             0|              1|                   0|154.77|                          0|                        1|         1.0|            2.0|                         0.0|                       3.0|                       3.0|                 0.0|                  0.0|(21,[0,1,3,4,5,9,...|\n",
            "|          0|       37|                        1|                      0|                   4|     2|       0|     0|                0|                             0|              0|                   0| 94.71|                          0|                        0|         0.0|            0.0|                         0.0|                       2.0|                       2.0|                 0.0|                  0.0|(21,[0,1,3,4,11,1...|\n",
            "|          0|       68|                        1|                      0|                   4|     2|       0|     0|                0|                             0|              0|                   0|  97.0|                          0|                        3|         0.0|            4.0|                         0.0|                       1.0|                       2.0|                 0.0|                  0.0|(21,[0,1,3,4,11,1...|\n",
            "|          0|       37|                        1|                      0|                   4|     2|       0|     0|                0|                             0|              0|                   0|  97.5|                          0|                        0|         0.0|            0.0|                         0.0|                       2.0|                       2.0|                 0.0|                  2.0|(21,[0,1,3,4,11,1...|\n",
            "|          0|       12|                        1|                      0|                   1|     2|       0|     0|                0|                             0|              0|                   0|  88.2|                          0|                        0|         0.0|            4.0|                         0.0|                       0.0|                       2.0|                 0.0|                  0.0|(21,[0,1,3,4,11,1...|\n",
            "|          0|        7|                        1|                      0|                   4|     2|       0|     0|                0|                             0|              0|                   0| 153.0|                          0|                        1|         0.0|            1.0|                         1.0|                       3.0|                       3.0|                 0.0|                  0.0|(21,[0,1,3,4,11,1...|\n",
            "|          0|       37|                        1|                      1|                   4|     1|       0|     0|                0|                             0|              0|                   0| 97.29|                          0|                        1|         0.0|            1.0|                         0.0|                       5.0|                       5.0|                 0.0|                  0.0|(21,[0,1,2,3,4,11...|\n",
            "|          0|       72|                        1|                      2|                   4|     2|       0|     0|                0|                             0|              1|                   0| 84.67|                          0|                        1|         0.0|            0.0|                         1.0|                       0.0|                       0.0|                 0.0|                  0.0|(21,[0,1,2,3,4,9,...|\n",
            "|          0|       72|                        1|                      2|                   4|     2|       0|     0|                0|                             0|              1|                   0| 84.67|                          0|                        1|         0.0|            0.0|                         1.0|                       0.0|                       0.0|                 0.0|                  0.0|(21,[0,1,2,3,4,9,...|\n",
            "|          0|       72|                        1|                      2|                   4|     2|       0|     0|                0|                             0|              1|                   0| 99.67|                          0|                        1|         0.0|            0.0|                         1.0|                       1.0|                       1.0|                 0.0|                  0.0|(21,[0,1,2,3,4,9,...|\n",
            "|          0|      127|                        1|                      2|                   5|     2|       0|     0|                0|                             0|              0|                   0| 94.95|                          0|                        1|         1.0|            1.0|                         0.0|                       1.0|                       7.0|                 0.0|                  2.0|(21,[0,1,2,3,4,11...|\n",
            "+-----------+---------+-------------------------+-----------------------+--------------------+------+--------+------+-----------------+------------------------------+---------------+--------------------+------+---------------------------+-------------------------+------------+---------------+----------------------------+--------------------------+--------------------------+--------------------+---------------------+--------------------+\n",
            "only showing top 20 rows\n",
            "\n"
          ]
        }
      ]
    },
    {
      "cell_type": "code",
      "source": [
        "train, test = df_with_features.randomSplit([0.8, 0.2])"
      ],
      "metadata": {
        "id": "B-3DQlLG8eoZ"
      },
      "execution_count": 141,
      "outputs": []
    },
    {
      "cell_type": "markdown",
      "source": [
        "# Models and evaluation"
      ],
      "metadata": {
        "id": "GkO9xk8F4m21"
      }
    },
    {
      "cell_type": "markdown",
      "source": [
        "# LogisticRegression"
      ],
      "metadata": {
        "id": "X8j2JQIH8jiw"
      }
    },
    {
      "cell_type": "code",
      "source": [
        "lg = LogisticRegression(featuresCol=\"features\", labelCol=\"is_canceled\")\n",
        "lg = lg.fit(train)\n",
        "\n",
        "pred = lg.transform(test)\n",
        "\n",
        "true_labels=test.select('is_canceled')\n",
        "lr_predictions=pred.select('prediction')\n",
        "\n",
        "accuracy = accuracy_score(true_labels.toPandas(), lr_predictions.toPandas())\n",
        "print(\"Logistic Regression Accuracy =\",accuracy * 100,\"%\")"
      ],
      "metadata": {
        "colab": {
          "base_uri": "https://localhost:8080/",
          "height": 0
        },
        "id": "geP6t216D-gM",
        "outputId": "7914c062-227d-4ec0-9411-c6b266a701df"
      },
      "execution_count": 145,
      "outputs": [
        {
          "output_type": "stream",
          "name": "stdout",
          "text": [
            "Logistic Regression Accuracy = 77.18446601941747 %\n"
          ]
        }
      ]
    },
    {
      "cell_type": "markdown",
      "source": [
        "# SVM classifier"
      ],
      "metadata": {
        "id": "_2d7RoHT8jNc"
      }
    },
    {
      "cell_type": "code",
      "source": [
        "svm = LinearSVC(featuresCol=\"features\", labelCol=\"is_canceled\")\n",
        "svm = svm.fit(train)\n",
        "\n",
        "pred = svm.transform(test)\n",
        "\n",
        "true_labels=pred.select('is_canceled')\n",
        "lr_predictions=pred.select('prediction')\n",
        "\n",
        "accuracy = accuracy_score(true_labels.toPandas(), lr_predictions.toPandas())\n",
        "print(\"LinearSVC Accuracy =\",accuracy*100,\"%\")"
      ],
      "metadata": {
        "colab": {
          "base_uri": "https://localhost:8080/",
          "height": 0
        },
        "id": "d63RtgWBFCyJ",
        "outputId": "77bb1882-9d5d-4799-ffc4-884506cbb47f"
      },
      "execution_count": 146,
      "outputs": [
        {
          "output_type": "stream",
          "name": "stdout",
          "text": [
            "LinearSVC Accuracy = 78.31715210355988 %\n"
          ]
        }
      ]
    },
    {
      "cell_type": "markdown",
      "source": [
        "# Naive Bayes"
      ],
      "metadata": {
        "id": "zA6xXsXz8j4f"
      }
    },
    {
      "cell_type": "code",
      "source": [
        "nb = NaiveBayes(featuresCol=\"features\", labelCol=\"is_canceled\")\n",
        "nb = nb.fit(train)\n",
        "\n",
        "pred = nb.transform(test)\n",
        "\n",
        "true_labels=pred.select('is_canceled')\n",
        "lr_predictions=pred.select('prediction')\n",
        "\n",
        "accuracy = accuracy_score(true_labels.toPandas(), lr_predictions.toPandas())\n",
        "print(\"NaiveBayes Accuracy =\",accuracy*100,\"%\")"
      ],
      "metadata": {
        "colab": {
          "base_uri": "https://localhost:8080/",
          "height": 0
        },
        "id": "FhCsOfgi8kKv",
        "outputId": "8697bcea-6815-49ae-cfb3-fd46b326fe4e"
      },
      "execution_count": 147,
      "outputs": [
        {
          "output_type": "stream",
          "name": "stdout",
          "text": [
            "NaiveBayes Accuracy = 73.05825242718447 %\n"
          ]
        }
      ]
    }
  ],
  "metadata": {
    "kernelspec": {
      "display_name": "Python 3",
      "language": "python",
      "name": "python3"
    },
    "language_info": {
      "codemirror_mode": {
        "name": "ipython",
        "version": 2
      },
      "file_extension": ".py",
      "mimetype": "text/x-python",
      "name": "python",
      "nbconvert_exporter": "python",
      "pygments_lexer": "ipython2",
      "version": "2.7.6"
    },
    "colab": {
      "provenance": []
    }
  },
  "nbformat": 4,
  "nbformat_minor": 0
}